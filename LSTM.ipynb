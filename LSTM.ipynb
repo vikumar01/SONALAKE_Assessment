{
  "nbformat": 4,
  "nbformat_minor": 0,
  "metadata": {
    "colab": {
      "name": "Untitled2.ipynb",
      "provenance": []
    },
    "kernelspec": {
      "name": "python3",
      "display_name": "Python 3"
    }
  },
  "cells": [
    {
      "cell_type": "code",
      "metadata": {
        "colab": {
          "resources": {
            "http://localhost:8080/nbextensions/google.colab/files.js": {
              "data": "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",
              "ok": true,
              "headers": [
                [
                  "content-type",
                  "application/javascript"
                ]
              ],
              "status": 200,
              "status_text": ""
            }
          },
          "base_uri": "https://localhost:8080/",
          "height": 72
        },
        "id": "PzYcNLwjYcWQ",
        "outputId": "76ea6130-9bef-49e9-cb9d-6617812cac0f"
      },
      "source": [
        "from google.colab import files\r\n",
        "upload = files.upload()"
      ],
      "execution_count": 1,
      "outputs": [
        {
          "output_type": "display_data",
          "data": {
            "text/html": [
              "\n",
              "     <input type=\"file\" id=\"files-d7794026-083b-424b-8ba2-614884b66669\" name=\"files[]\" multiple disabled\n",
              "        style=\"border:none\" />\n",
              "     <output id=\"result-d7794026-083b-424b-8ba2-614884b66669\">\n",
              "      Upload widget is only available when the cell has been executed in the\n",
              "      current browser session. Please rerun this cell to enable.\n",
              "      </output>\n",
              "      <script src=\"/nbextensions/google.colab/files.js\"></script> "
            ],
            "text/plain": [
              "<IPython.core.display.HTML object>"
            ]
          },
          "metadata": {
            "tags": []
          }
        },
        {
          "output_type": "stream",
          "text": [
            "Saving data1.xls to data1.xls\n"
          ],
          "name": "stdout"
        }
      ]
    },
    {
      "cell_type": "code",
      "metadata": {
        "id": "vZsVeg-FYqju"
      },
      "source": [
        "\r\n",
        "import pandas as pd\r\n",
        "import matplotlib as mpl\r\n",
        "import matplotlib.pyplot as plt\r\n",
        "from sklearn.model_selection import train_test_split\r\n",
        "#from keras.preprocessing.sequence import TimeseriesGenerator\r\n",
        "from tensorflow.python.keras.utils.data_utils import Sequence\r\n",
        "from sklearn.preprocessing import MinMaxScaler, StandardScaler\r\n",
        "import tensorflow as tf\r\n",
        "\r\n",
        "mpl.rcParams['figure.figsize'] = (10, 8)\r\n",
        "mpl.rcParams['axes.grid'] = False"
      ],
      "execution_count": 119,
      "outputs": []
    },
    {
      "cell_type": "code",
      "metadata": {
        "id": "EkeSwf1fZdYZ"
      },
      "source": [
        "import io\r\n",
        "import numpy as np"
      ],
      "execution_count": 120,
      "outputs": []
    },
    {
      "cell_type": "code",
      "metadata": {
        "id": "SjGoY2LuY9ls"
      },
      "source": [
        "#LOAD_TO_PREDICT = \"C4\"\r\n",
        "FREQ = \"1H\" # frequency of the time series\r\n",
        "c_data= pd.read_excel(io.BytesIO(upload['data1.xls']))\r\n",
        "\r\n",
        "df_copy=c_data.copy()"
      ],
      "execution_count": 121,
      "outputs": []
    },
    {
      "cell_type": "code",
      "metadata": {
        "id": "0L_sQocMY9vo"
      },
      "source": [
        "c_data=c_data.set_index('Timestamp') # to query fast and help in subset and filtering fast"
      ],
      "execution_count": 122,
      "outputs": []
    },
    {
      "cell_type": "code",
      "metadata": {
        "id": "RmCSWuDxY9yh"
      },
      "source": [
        "c_data['Values (Gbps)']=c_data['Values (Gbps)'].fillna(method='bfill')"
      ],
      "execution_count": 123,
      "outputs": []
    },
    {
      "cell_type": "code",
      "metadata": {
        "colab": {
          "base_uri": "https://localhost:8080/",
          "height": 266
        },
        "id": "3sLPeuB6Y91S",
        "outputId": "f34d32cc-b85b-4fe5-9e90-fed21081a4b8"
      },
      "source": [
        "df_copy=c_data.copy()\r\n",
        "df_copy=df_copy.reset_index()\r\n",
        "c_data.head(6)"
      ],
      "execution_count": 124,
      "outputs": [
        {
          "output_type": "execute_result",
          "data": {
            "text/html": [
              "<div>\n",
              "<style scoped>\n",
              "    .dataframe tbody tr th:only-of-type {\n",
              "        vertical-align: middle;\n",
              "    }\n",
              "\n",
              "    .dataframe tbody tr th {\n",
              "        vertical-align: top;\n",
              "    }\n",
              "\n",
              "    .dataframe thead th {\n",
              "        text-align: right;\n",
              "    }\n",
              "</style>\n",
              "<table border=\"1\" class=\"dataframe\">\n",
              "  <thead>\n",
              "    <tr style=\"text-align: right;\">\n",
              "      <th></th>\n",
              "      <th>Values (Gbps)</th>\n",
              "    </tr>\n",
              "    <tr>\n",
              "      <th>Timestamp</th>\n",
              "      <th></th>\n",
              "    </tr>\n",
              "  </thead>\n",
              "  <tbody>\n",
              "    <tr>\n",
              "      <th>2019-11-04 00:00:00</th>\n",
              "      <td>10.47</td>\n",
              "    </tr>\n",
              "    <tr>\n",
              "      <th>2019-11-04 01:00:00</th>\n",
              "      <td>6.99</td>\n",
              "    </tr>\n",
              "    <tr>\n",
              "      <th>2019-11-04 02:00:00</th>\n",
              "      <td>4.63</td>\n",
              "    </tr>\n",
              "    <tr>\n",
              "      <th>2019-11-04 03:00:00</th>\n",
              "      <td>3.17</td>\n",
              "    </tr>\n",
              "    <tr>\n",
              "      <th>2019-11-04 04:00:00</th>\n",
              "      <td>0.41</td>\n",
              "    </tr>\n",
              "    <tr>\n",
              "      <th>2019-11-04 05:00:00</th>\n",
              "      <td>3.73</td>\n",
              "    </tr>\n",
              "  </tbody>\n",
              "</table>\n",
              "</div>"
            ],
            "text/plain": [
              "                     Values (Gbps)\n",
              "Timestamp                         \n",
              "2019-11-04 00:00:00          10.47\n",
              "2019-11-04 01:00:00           6.99\n",
              "2019-11-04 02:00:00           4.63\n",
              "2019-11-04 03:00:00           3.17\n",
              "2019-11-04 04:00:00           0.41\n",
              "2019-11-04 05:00:00           3.73"
            ]
          },
          "metadata": {
            "tags": []
          },
          "execution_count": 124
        }
      ]
    },
    {
      "cell_type": "code",
      "metadata": {
        "colab": {
          "base_uri": "https://localhost:8080/"
        },
        "id": "X7tMaZ8eZxEV",
        "outputId": "ba53f91e-9a5a-4c29-8d25-c556c10ca2a4"
      },
      "source": [
        "t_target = c_data[\"Values (Gbps)\"]\r\n",
        "t_target"
      ],
      "execution_count": 125,
      "outputs": [
        {
          "output_type": "execute_result",
          "data": {
            "text/plain": [
              "Timestamp\n",
              "2019-11-04 00:00:00    10.47\n",
              "2019-11-04 01:00:00     6.99\n",
              "2019-11-04 02:00:00     4.63\n",
              "2019-11-04 03:00:00     3.17\n",
              "2019-11-04 04:00:00     0.41\n",
              "                       ...  \n",
              "2020-01-03 19:00:00    13.51\n",
              "2020-01-03 20:00:00    15.07\n",
              "2020-01-03 21:00:00    15.56\n",
              "2020-01-03 22:00:00    15.90\n",
              "2020-01-03 23:00:00    14.37\n",
              "Name: Values (Gbps), Length: 1464, dtype: float64"
            ]
          },
          "metadata": {
            "tags": []
          },
          "execution_count": 125
        }
      ]
    },
    {
      "cell_type": "code",
      "metadata": {
        "colab": {
          "base_uri": "https://localhost:8080/",
          "height": 303
        },
        "id": "HjDmXY9yY93f",
        "outputId": "2a1329f0-66de-4b19-fde6-657ae2295162"
      },
      "source": [
        "def create_ts_features(data):\r\n",
        "    \r\n",
        "    def get_usage(row):\r\n",
        "         #Usage time in quator wise of 6 hours\r\n",
        "    \r\n",
        "        if 0 <= row.hour <= 6:\r\n",
        "            return 1\r\n",
        "        elif 7 <= row.hour <= 12:\r\n",
        "            return 2\r\n",
        "        elif 13 <= row.hour <= 18:\r\n",
        "            return 3\r\n",
        "        else:\r\n",
        "            return 4\r\n",
        "    \r\n",
        "    features = pd.DataFrame()\r\n",
        "    \r\n",
        "    features[\"hour\"] = data.index.hour\r\n",
        "    features[\"weekday\"] = data.index.weekday\r\n",
        "    features[\"dayofyear\"] = data.index.dayofyear\r\n",
        "    features[\"is_weekend\"] = data.index.weekday.isin([5, 6]).astype(np.int32)\r\n",
        "    features[\"weekofyear\"] = data.index.weekofyear\r\n",
        "    features[\"month\"] = data.index.month\r\n",
        "    features[\"usage\"] = pd.Series(data.index.map(get_usage))\r\n",
        "    \r\n",
        "    features.index = data.index\r\n",
        "        \r\n",
        "    return features\r\n",
        "\r\n",
        "ts = create_ts_features(t_target)\r\n",
        "features = ts.join(t_target, how=\"outer\")\r\n",
        "target = t_target[t_target.index >= features.index[0]]\r\n",
        "features.head(6)"
      ],
      "execution_count": 126,
      "outputs": [
        {
          "output_type": "stream",
          "text": [
            "/usr/local/lib/python3.6/dist-packages/ipykernel_launcher.py:21: FutureWarning: weekofyear and week have been deprecated, please use DatetimeIndex.isocalendar().week instead, which returns a Series.  To exactly reproduce the behavior of week and weekofyear and return an Index, you may call pd.Int64Index(idx.isocalendar().week)\n"
          ],
          "name": "stderr"
        },
        {
          "output_type": "execute_result",
          "data": {
            "text/html": [
              "<div>\n",
              "<style scoped>\n",
              "    .dataframe tbody tr th:only-of-type {\n",
              "        vertical-align: middle;\n",
              "    }\n",
              "\n",
              "    .dataframe tbody tr th {\n",
              "        vertical-align: top;\n",
              "    }\n",
              "\n",
              "    .dataframe thead th {\n",
              "        text-align: right;\n",
              "    }\n",
              "</style>\n",
              "<table border=\"1\" class=\"dataframe\">\n",
              "  <thead>\n",
              "    <tr style=\"text-align: right;\">\n",
              "      <th></th>\n",
              "      <th>hour</th>\n",
              "      <th>weekday</th>\n",
              "      <th>dayofyear</th>\n",
              "      <th>is_weekend</th>\n",
              "      <th>weekofyear</th>\n",
              "      <th>month</th>\n",
              "      <th>usage</th>\n",
              "      <th>Values (Gbps)</th>\n",
              "    </tr>\n",
              "    <tr>\n",
              "      <th>Timestamp</th>\n",
              "      <th></th>\n",
              "      <th></th>\n",
              "      <th></th>\n",
              "      <th></th>\n",
              "      <th></th>\n",
              "      <th></th>\n",
              "      <th></th>\n",
              "      <th></th>\n",
              "    </tr>\n",
              "  </thead>\n",
              "  <tbody>\n",
              "    <tr>\n",
              "      <th>2019-11-04 00:00:00</th>\n",
              "      <td>0</td>\n",
              "      <td>0</td>\n",
              "      <td>308</td>\n",
              "      <td>0</td>\n",
              "      <td>45</td>\n",
              "      <td>11</td>\n",
              "      <td>1</td>\n",
              "      <td>10.47</td>\n",
              "    </tr>\n",
              "    <tr>\n",
              "      <th>2019-11-04 01:00:00</th>\n",
              "      <td>1</td>\n",
              "      <td>0</td>\n",
              "      <td>308</td>\n",
              "      <td>0</td>\n",
              "      <td>45</td>\n",
              "      <td>11</td>\n",
              "      <td>1</td>\n",
              "      <td>6.99</td>\n",
              "    </tr>\n",
              "    <tr>\n",
              "      <th>2019-11-04 02:00:00</th>\n",
              "      <td>2</td>\n",
              "      <td>0</td>\n",
              "      <td>308</td>\n",
              "      <td>0</td>\n",
              "      <td>45</td>\n",
              "      <td>11</td>\n",
              "      <td>1</td>\n",
              "      <td>4.63</td>\n",
              "    </tr>\n",
              "    <tr>\n",
              "      <th>2019-11-04 03:00:00</th>\n",
              "      <td>3</td>\n",
              "      <td>0</td>\n",
              "      <td>308</td>\n",
              "      <td>0</td>\n",
              "      <td>45</td>\n",
              "      <td>11</td>\n",
              "      <td>1</td>\n",
              "      <td>3.17</td>\n",
              "    </tr>\n",
              "    <tr>\n",
              "      <th>2019-11-04 04:00:00</th>\n",
              "      <td>4</td>\n",
              "      <td>0</td>\n",
              "      <td>308</td>\n",
              "      <td>0</td>\n",
              "      <td>45</td>\n",
              "      <td>11</td>\n",
              "      <td>1</td>\n",
              "      <td>0.41</td>\n",
              "    </tr>\n",
              "    <tr>\n",
              "      <th>2019-11-04 05:00:00</th>\n",
              "      <td>5</td>\n",
              "      <td>0</td>\n",
              "      <td>308</td>\n",
              "      <td>0</td>\n",
              "      <td>45</td>\n",
              "      <td>11</td>\n",
              "      <td>1</td>\n",
              "      <td>3.73</td>\n",
              "    </tr>\n",
              "  </tbody>\n",
              "</table>\n",
              "</div>"
            ],
            "text/plain": [
              "                     hour  weekday  dayofyear  ...  month  usage  Values (Gbps)\n",
              "Timestamp                                      ...                             \n",
              "2019-11-04 00:00:00     0        0        308  ...     11      1          10.47\n",
              "2019-11-04 01:00:00     1        0        308  ...     11      1           6.99\n",
              "2019-11-04 02:00:00     2        0        308  ...     11      1           4.63\n",
              "2019-11-04 03:00:00     3        0        308  ...     11      1           3.17\n",
              "2019-11-04 04:00:00     4        0        308  ...     11      1           0.41\n",
              "2019-11-04 05:00:00     5        0        308  ...     11      1           3.73\n",
              "\n",
              "[6 rows x 8 columns]"
            ]
          },
          "metadata": {
            "tags": []
          },
          "execution_count": 126
        }
      ]
    },
    {
      "cell_type": "code",
      "metadata": {
        "id": "IXKLhXlJY96G"
      },
      "source": [
        "\r\n",
        "import pandas as pd\r\n",
        "import matplotlib as mpl\r\n",
        "import matplotlib.pyplot as plt\r\n",
        "from sklearn.model_selection import train_test_split\r\n",
        "#from keras.preprocessing.sequence import TimeseriesGenerator\r\n",
        "from tensorflow.python.keras.utils.data_utils import Sequence\r\n",
        "from sklearn.preprocessing import MinMaxScaler, StandardScaler\r\n",
        "import tensorflow as tf\r\n",
        "\r\n",
        "mpl.rcParams['figure.figsize'] = (10, 8)\r\n",
        "mpl.rcParams['axes.grid'] = False"
      ],
      "execution_count": 127,
      "outputs": []
    },
    {
      "cell_type": "code",
      "metadata": {
        "colab": {
          "base_uri": "https://localhost:8080/",
          "height": 450
        },
        "id": "x_Jb5PCRY985",
        "outputId": "0766eee5-860d-41a5-da99-80b732cce41c"
      },
      "source": [
        "features"
      ],
      "execution_count": 128,
      "outputs": [
        {
          "output_type": "execute_result",
          "data": {
            "text/html": [
              "<div>\n",
              "<style scoped>\n",
              "    .dataframe tbody tr th:only-of-type {\n",
              "        vertical-align: middle;\n",
              "    }\n",
              "\n",
              "    .dataframe tbody tr th {\n",
              "        vertical-align: top;\n",
              "    }\n",
              "\n",
              "    .dataframe thead th {\n",
              "        text-align: right;\n",
              "    }\n",
              "</style>\n",
              "<table border=\"1\" class=\"dataframe\">\n",
              "  <thead>\n",
              "    <tr style=\"text-align: right;\">\n",
              "      <th></th>\n",
              "      <th>hour</th>\n",
              "      <th>weekday</th>\n",
              "      <th>dayofyear</th>\n",
              "      <th>is_weekend</th>\n",
              "      <th>weekofyear</th>\n",
              "      <th>month</th>\n",
              "      <th>usage</th>\n",
              "      <th>Values (Gbps)</th>\n",
              "    </tr>\n",
              "    <tr>\n",
              "      <th>Timestamp</th>\n",
              "      <th></th>\n",
              "      <th></th>\n",
              "      <th></th>\n",
              "      <th></th>\n",
              "      <th></th>\n",
              "      <th></th>\n",
              "      <th></th>\n",
              "      <th></th>\n",
              "    </tr>\n",
              "  </thead>\n",
              "  <tbody>\n",
              "    <tr>\n",
              "      <th>2019-11-04 00:00:00</th>\n",
              "      <td>0</td>\n",
              "      <td>0</td>\n",
              "      <td>308</td>\n",
              "      <td>0</td>\n",
              "      <td>45</td>\n",
              "      <td>11</td>\n",
              "      <td>1</td>\n",
              "      <td>10.47</td>\n",
              "    </tr>\n",
              "    <tr>\n",
              "      <th>2019-11-04 01:00:00</th>\n",
              "      <td>1</td>\n",
              "      <td>0</td>\n",
              "      <td>308</td>\n",
              "      <td>0</td>\n",
              "      <td>45</td>\n",
              "      <td>11</td>\n",
              "      <td>1</td>\n",
              "      <td>6.99</td>\n",
              "    </tr>\n",
              "    <tr>\n",
              "      <th>2019-11-04 02:00:00</th>\n",
              "      <td>2</td>\n",
              "      <td>0</td>\n",
              "      <td>308</td>\n",
              "      <td>0</td>\n",
              "      <td>45</td>\n",
              "      <td>11</td>\n",
              "      <td>1</td>\n",
              "      <td>4.63</td>\n",
              "    </tr>\n",
              "    <tr>\n",
              "      <th>2019-11-04 03:00:00</th>\n",
              "      <td>3</td>\n",
              "      <td>0</td>\n",
              "      <td>308</td>\n",
              "      <td>0</td>\n",
              "      <td>45</td>\n",
              "      <td>11</td>\n",
              "      <td>1</td>\n",
              "      <td>3.17</td>\n",
              "    </tr>\n",
              "    <tr>\n",
              "      <th>2019-11-04 04:00:00</th>\n",
              "      <td>4</td>\n",
              "      <td>0</td>\n",
              "      <td>308</td>\n",
              "      <td>0</td>\n",
              "      <td>45</td>\n",
              "      <td>11</td>\n",
              "      <td>1</td>\n",
              "      <td>0.41</td>\n",
              "    </tr>\n",
              "    <tr>\n",
              "      <th>...</th>\n",
              "      <td>...</td>\n",
              "      <td>...</td>\n",
              "      <td>...</td>\n",
              "      <td>...</td>\n",
              "      <td>...</td>\n",
              "      <td>...</td>\n",
              "      <td>...</td>\n",
              "      <td>...</td>\n",
              "    </tr>\n",
              "    <tr>\n",
              "      <th>2020-01-03 19:00:00</th>\n",
              "      <td>19</td>\n",
              "      <td>4</td>\n",
              "      <td>3</td>\n",
              "      <td>0</td>\n",
              "      <td>1</td>\n",
              "      <td>1</td>\n",
              "      <td>4</td>\n",
              "      <td>13.51</td>\n",
              "    </tr>\n",
              "    <tr>\n",
              "      <th>2020-01-03 20:00:00</th>\n",
              "      <td>20</td>\n",
              "      <td>4</td>\n",
              "      <td>3</td>\n",
              "      <td>0</td>\n",
              "      <td>1</td>\n",
              "      <td>1</td>\n",
              "      <td>4</td>\n",
              "      <td>15.07</td>\n",
              "    </tr>\n",
              "    <tr>\n",
              "      <th>2020-01-03 21:00:00</th>\n",
              "      <td>21</td>\n",
              "      <td>4</td>\n",
              "      <td>3</td>\n",
              "      <td>0</td>\n",
              "      <td>1</td>\n",
              "      <td>1</td>\n",
              "      <td>4</td>\n",
              "      <td>15.56</td>\n",
              "    </tr>\n",
              "    <tr>\n",
              "      <th>2020-01-03 22:00:00</th>\n",
              "      <td>22</td>\n",
              "      <td>4</td>\n",
              "      <td>3</td>\n",
              "      <td>0</td>\n",
              "      <td>1</td>\n",
              "      <td>1</td>\n",
              "      <td>4</td>\n",
              "      <td>15.90</td>\n",
              "    </tr>\n",
              "    <tr>\n",
              "      <th>2020-01-03 23:00:00</th>\n",
              "      <td>23</td>\n",
              "      <td>4</td>\n",
              "      <td>3</td>\n",
              "      <td>0</td>\n",
              "      <td>1</td>\n",
              "      <td>1</td>\n",
              "      <td>4</td>\n",
              "      <td>14.37</td>\n",
              "    </tr>\n",
              "  </tbody>\n",
              "</table>\n",
              "<p>1464 rows × 8 columns</p>\n",
              "</div>"
            ],
            "text/plain": [
              "                     hour  weekday  dayofyear  ...  month  usage  Values (Gbps)\n",
              "Timestamp                                      ...                             \n",
              "2019-11-04 00:00:00     0        0        308  ...     11      1          10.47\n",
              "2019-11-04 01:00:00     1        0        308  ...     11      1           6.99\n",
              "2019-11-04 02:00:00     2        0        308  ...     11      1           4.63\n",
              "2019-11-04 03:00:00     3        0        308  ...     11      1           3.17\n",
              "2019-11-04 04:00:00     4        0        308  ...     11      1           0.41\n",
              "...                   ...      ...        ...  ...    ...    ...            ...\n",
              "2020-01-03 19:00:00    19        4          3  ...      1      4          13.51\n",
              "2020-01-03 20:00:00    20        4          3  ...      1      4          15.07\n",
              "2020-01-03 21:00:00    21        4          3  ...      1      4          15.56\n",
              "2020-01-03 22:00:00    22        4          3  ...      1      4          15.90\n",
              "2020-01-03 23:00:00    23        4          3  ...      1      4          14.37\n",
              "\n",
              "[1464 rows x 8 columns]"
            ]
          },
          "metadata": {
            "tags": []
          },
          "execution_count": 128
        }
      ]
    },
    {
      "cell_type": "code",
      "metadata": {
        "id": "O-wFu4I4Y9-4"
      },
      "source": [
        "scaler = MinMaxScaler()\r\n",
        "data_scaled = scaler.fit_transform(features)"
      ],
      "execution_count": 129,
      "outputs": []
    },
    {
      "cell_type": "code",
      "metadata": {
        "colab": {
          "base_uri": "https://localhost:8080/"
        },
        "id": "b6kAhjeZY-Bg",
        "outputId": "ba5059c9-4339-4899-fb28-41101b366953"
      },
      "source": [
        "data_scaled"
      ],
      "execution_count": 130,
      "outputs": [
        {
          "output_type": "execute_result",
          "data": {
            "text/plain": [
              "array([[0.        , 0.        , 0.84340659, ..., 0.90909091, 0.        ,\n",
              "        0.40597256],\n",
              "       [0.04347826, 0.        , 0.84340659, ..., 0.90909091, 0.        ,\n",
              "        0.26553672],\n",
              "       [0.08695652, 0.        , 0.84340659, ..., 0.90909091, 0.        ,\n",
              "        0.17029863],\n",
              "       ...,\n",
              "       [0.91304348, 0.66666667, 0.00549451, ..., 0.        , 1.        ,\n",
              "        0.61138015],\n",
              "       [0.95652174, 0.66666667, 0.00549451, ..., 0.        , 1.        ,\n",
              "        0.62510089],\n",
              "       [1.        , 0.66666667, 0.00549451, ..., 0.        , 1.        ,\n",
              "        0.56335755]])"
            ]
          },
          "metadata": {
            "tags": []
          },
          "execution_count": 130
        }
      ]
    },
    {
      "cell_type": "code",
      "metadata": {
        "colab": {
          "base_uri": "https://localhost:8080/"
        },
        "id": "IsijiPWSaCdF",
        "outputId": "59314525-dde0-4521-d259-5f58fb6d1281"
      },
      "source": [
        "data_scaled.shape"
      ],
      "execution_count": 131,
      "outputs": [
        {
          "output_type": "execute_result",
          "data": {
            "text/plain": [
              "(1464, 8)"
            ]
          },
          "metadata": {
            "tags": []
          },
          "execution_count": 131
        }
      ]
    },
    {
      "cell_type": "code",
      "metadata": {
        "id": "1fdUhaV2aEJb"
      },
      "source": [
        "feature=data_scaled\r\n",
        "target=data_scaled[:,7]"
      ],
      "execution_count": 132,
      "outputs": []
    },
    {
      "cell_type": "code",
      "metadata": {
        "id": "Subm_FTxaHZe"
      },
      "source": [
        "from keras.preprocessing.sequence import TimeseriesGenerator\r\n"
      ],
      "execution_count": 133,
      "outputs": []
    },
    {
      "cell_type": "code",
      "metadata": {
        "colab": {
          "base_uri": "https://localhost:8080/"
        },
        "id": "-y5trjjkaFeH",
        "outputId": "d9a68e2b-4e57-427d-e1d8-a345fcc4432c"
      },
      "source": [
        "TimeseriesGenerator(feature, target, length=2, sampling_rate=1, batch_size=1)[0]\r\n"
      ],
      "execution_count": 134,
      "outputs": [
        {
          "output_type": "execute_result",
          "data": {
            "text/plain": [
              "(array([[[0.        , 0.        , 0.84340659, 0.        , 0.8627451 ,\n",
              "          0.90909091, 0.        , 0.40597256],\n",
              "         [0.04347826, 0.        , 0.84340659, 0.        , 0.8627451 ,\n",
              "          0.90909091, 0.        , 0.26553672]]]), array([0.17029863]))"
            ]
          },
          "metadata": {
            "tags": []
          },
          "execution_count": 134
        }
      ]
    },
    {
      "cell_type": "code",
      "metadata": {
        "id": "rmi6zUj7aJ5A"
      },
      "source": [
        "x_train, x_test, y_train, y_test = train_test_split(feature, target, test_size=0.10, random_state=123, shuffle = False)\r\n"
      ],
      "execution_count": 206,
      "outputs": []
    },
    {
      "cell_type": "code",
      "metadata": {
        "id": "tqVS01fAaMGy"
      },
      "source": [
        "win_length=4\r\n",
        "batch_size=32\r\n",
        "num_features=8\r\n",
        "train_generator = TimeseriesGenerator(x_train, y_train, length=win_length, sampling_rate=1, batch_size=batch_size)\r\n",
        "test_generator = TimeseriesGenerator(x_test, y_test, length=win_length, sampling_rate=1, batch_size=batch_size)"
      ],
      "execution_count": 307,
      "outputs": []
    },
    {
      "cell_type": "code",
      "metadata": {
        "colab": {
          "base_uri": "https://localhost:8080/"
        },
        "id": "MkFfapg1aNKD",
        "outputId": "f7b80d07-2fa8-4ab2-b0a5-65689114e55a"
      },
      "source": [
        "train_generator[0]\r\n"
      ],
      "execution_count": 308,
      "outputs": [
        {
          "output_type": "execute_result",
          "data": {
            "text/plain": [
              "(array([[[0.        , 0.        , 0.84340659, ..., 0.90909091,\n",
              "          0.        , 0.40597256],\n",
              "         [0.04347826, 0.        , 0.84340659, ..., 0.90909091,\n",
              "          0.        , 0.26553672],\n",
              "         [0.08695652, 0.        , 0.84340659, ..., 0.90909091,\n",
              "          0.        , 0.17029863],\n",
              "         [0.13043478, 0.        , 0.84340659, ..., 0.90909091,\n",
              "          0.        , 0.11138015]],\n",
              " \n",
              "        [[0.04347826, 0.        , 0.84340659, ..., 0.90909091,\n",
              "          0.        , 0.26553672],\n",
              "         [0.08695652, 0.        , 0.84340659, ..., 0.90909091,\n",
              "          0.        , 0.17029863],\n",
              "         [0.13043478, 0.        , 0.84340659, ..., 0.90909091,\n",
              "          0.        , 0.11138015],\n",
              "         [0.17391304, 0.        , 0.84340659, ..., 0.90909091,\n",
              "          0.        , 0.        ]],\n",
              " \n",
              "        [[0.08695652, 0.        , 0.84340659, ..., 0.90909091,\n",
              "          0.        , 0.17029863],\n",
              "         [0.13043478, 0.        , 0.84340659, ..., 0.90909091,\n",
              "          0.        , 0.11138015],\n",
              "         [0.17391304, 0.        , 0.84340659, ..., 0.90909091,\n",
              "          0.        , 0.        ],\n",
              "         [0.2173913 , 0.        , 0.84340659, ..., 0.90909091,\n",
              "          0.        , 0.13397902]],\n",
              " \n",
              "        ...,\n",
              " \n",
              "        [[0.2173913 , 0.16666667, 0.84615385, ..., 0.90909091,\n",
              "          0.        , 0.08353511],\n",
              "         [0.26086957, 0.16666667, 0.84615385, ..., 0.90909091,\n",
              "          0.        , 0.14527845],\n",
              "         [0.30434783, 0.16666667, 0.84615385, ..., 0.90909091,\n",
              "          0.33333333, 0.2897498 ],\n",
              "         [0.34782609, 0.16666667, 0.84615385, ..., 0.90909091,\n",
              "          0.33333333, 0.39669088]],\n",
              " \n",
              "        [[0.26086957, 0.16666667, 0.84615385, ..., 0.90909091,\n",
              "          0.        , 0.14527845],\n",
              "         [0.30434783, 0.16666667, 0.84615385, ..., 0.90909091,\n",
              "          0.33333333, 0.2897498 ],\n",
              "         [0.34782609, 0.16666667, 0.84615385, ..., 0.90909091,\n",
              "          0.33333333, 0.39669088],\n",
              "         [0.39130435, 0.16666667, 0.84615385, ..., 0.90909091,\n",
              "          0.33333333, 0.36077482]],\n",
              " \n",
              "        [[0.30434783, 0.16666667, 0.84615385, ..., 0.90909091,\n",
              "          0.33333333, 0.2897498 ],\n",
              "         [0.34782609, 0.16666667, 0.84615385, ..., 0.90909091,\n",
              "          0.33333333, 0.39669088],\n",
              "         [0.39130435, 0.16666667, 0.84615385, ..., 0.90909091,\n",
              "          0.33333333, 0.36077482],\n",
              "         [0.43478261, 0.16666667, 0.84615385, ..., 0.90909091,\n",
              "          0.33333333, 0.38700565]]]),\n",
              " array([0.        , 0.13397902, 0.13397902, 0.26351897, 0.37974173,\n",
              "        0.35875706, 0.38942696, 0.39184826, 0.41848265, 0.4826473 ,\n",
              "        0.45722357, 0.47215496, 0.52703793, 0.55004036, 0.57506053,\n",
              "        0.59725585, 0.62510089, 0.64205004, 0.64326069, 0.55770783,\n",
              "        0.40112994, 0.26230831, 0.16464891, 0.11218725, 0.08313156,\n",
              "        0.08353511, 0.14527845, 0.2897498 , 0.39669088, 0.36077482,\n",
              "        0.38700565, 0.38458434]))"
            ]
          },
          "metadata": {
            "tags": []
          },
          "execution_count": 308
        }
      ]
    },
    {
      "cell_type": "code",
      "metadata": {
        "id": "vnu9HYD6aOcS"
      },
      "source": [
        "\r\n",
        "model = tf.keras.Sequential()\r\n",
        "model.add(tf.keras.layers.LSTM(128, input_shape= (win_length, num_features), return_sequences=True))\r\n",
        "model.add(tf.keras.layers.LeakyReLU(alpha=0.5)) \r\n",
        "model.add(tf.keras.layers.LSTM(128, return_sequences=True))\r\n",
        "model.add(tf.keras.layers.LeakyReLU(alpha=0.5)) \r\n",
        "model.add(tf.keras.layers.Dropout(0.3)) \r\n",
        "model.add(tf.keras.layers.LSTM(64, return_sequences=False))\r\n",
        "model.add(tf.keras.layers.Dropout(0.3)) \r\n",
        "model.add(tf.keras.layers.Dense(1))"
      ],
      "execution_count": 309,
      "outputs": []
    },
    {
      "cell_type": "code",
      "metadata": {
        "colab": {
          "base_uri": "https://localhost:8080/"
        },
        "id": "pSKMJyN0aSYd",
        "outputId": "8c145153-426f-41f9-ca00-7e1120e50e2a"
      },
      "source": [
        "model.summary()\r\n"
      ],
      "execution_count": 310,
      "outputs": [
        {
          "output_type": "stream",
          "text": [
            "Model: \"sequential_15\"\n",
            "_________________________________________________________________\n",
            "Layer (type)                 Output Shape              Param #   \n",
            "=================================================================\n",
            "lstm_46 (LSTM)               (None, 4, 128)            70144     \n",
            "_________________________________________________________________\n",
            "leaky_re_lu_31 (LeakyReLU)   (None, 4, 128)            0         \n",
            "_________________________________________________________________\n",
            "lstm_47 (LSTM)               (None, 4, 128)            131584    \n",
            "_________________________________________________________________\n",
            "leaky_re_lu_32 (LeakyReLU)   (None, 4, 128)            0         \n",
            "_________________________________________________________________\n",
            "dropout_33 (Dropout)         (None, 4, 128)            0         \n",
            "_________________________________________________________________\n",
            "lstm_48 (LSTM)               (None, 64)                49408     \n",
            "_________________________________________________________________\n",
            "dropout_34 (Dropout)         (None, 64)                0         \n",
            "_________________________________________________________________\n",
            "dense_15 (Dense)             (None, 1)                 65        \n",
            "=================================================================\n",
            "Total params: 251,201\n",
            "Trainable params: 251,201\n",
            "Non-trainable params: 0\n",
            "_________________________________________________________________\n"
          ],
          "name": "stdout"
        }
      ]
    },
    {
      "cell_type": "code",
      "metadata": {
        "colab": {
          "base_uri": "https://localhost:8080/"
        },
        "id": "B834N5qlaWNN",
        "outputId": "71a0ead5-4993-46db-9b89-e0fc4d68f7d3"
      },
      "source": [
        "early_stopping = tf.keras.callbacks.EarlyStopping(monitor='val_loss',\r\n",
        "                                                    patience=2\r\n",
        "                                                    )\r\n",
        "\r\n",
        "model.compile(loss=tf.losses.MeanSquaredError(),\r\n",
        "              optimizer=tf.optimizers.Adam(),\r\n",
        "              metrics=[tf.metrics.MeanAbsoluteError()])\r\n",
        "\r\n",
        "history = model.fit_generator(train_generator, epochs=30,\r\n",
        "                    validation_data=test_generator,\r\n",
        "                    shuffle=False,\r\n",
        "                    callbacks=[early_stopping])"
      ],
      "execution_count": 311,
      "outputs": [
        {
          "output_type": "stream",
          "text": [
            "Epoch 1/30\n"
          ],
          "name": "stdout"
        },
        {
          "output_type": "stream",
          "text": [
            "/usr/local/lib/python3.6/dist-packages/tensorflow/python/keras/engine/training.py:1844: UserWarning: `Model.fit_generator` is deprecated and will be removed in a future version. Please use `Model.fit`, which supports generators.\n",
            "  warnings.warn('`Model.fit_generator` is deprecated and '\n"
          ],
          "name": "stderr"
        },
        {
          "output_type": "stream",
          "text": [
            "42/42 [==============================] - 6s 43ms/step - loss: 0.0712 - mean_absolute_error: 0.2135 - val_loss: 0.0318 - val_mean_absolute_error: 0.1511\n",
            "Epoch 2/30\n",
            "42/42 [==============================] - 1s 17ms/step - loss: 0.0252 - mean_absolute_error: 0.1295 - val_loss: 0.0219 - val_mean_absolute_error: 0.1263\n",
            "Epoch 3/30\n",
            "42/42 [==============================] - 1s 17ms/step - loss: 0.0201 - mean_absolute_error: 0.1178 - val_loss: 0.0187 - val_mean_absolute_error: 0.1132\n",
            "Epoch 4/30\n",
            "42/42 [==============================] - 1s 17ms/step - loss: 0.0126 - mean_absolute_error: 0.0912 - val_loss: 0.0111 - val_mean_absolute_error: 0.0810\n",
            "Epoch 5/30\n",
            "42/42 [==============================] - 1s 17ms/step - loss: 0.0097 - mean_absolute_error: 0.0776 - val_loss: 0.0167 - val_mean_absolute_error: 0.1002\n",
            "Epoch 6/30\n",
            "42/42 [==============================] - 1s 17ms/step - loss: 0.0075 - mean_absolute_error: 0.0684 - val_loss: 0.0156 - val_mean_absolute_error: 0.0949\n"
          ],
          "name": "stdout"
        }
      ]
    },
    {
      "cell_type": "code",
      "metadata": {
        "colab": {
          "base_uri": "https://localhost:8080/"
        },
        "id": "H0SphY57aaX9",
        "outputId": "bc8ab733-b40a-4b0f-c56a-6c03dc7c75b8"
      },
      "source": [
        "model.evaluate_generator(test_generator, verbose=0)\r\n"
      ],
      "execution_count": 312,
      "outputs": [
        {
          "output_type": "stream",
          "text": [
            "/usr/local/lib/python3.6/dist-packages/tensorflow/python/keras/engine/training.py:1877: UserWarning: `Model.evaluate_generator` is deprecated and will be removed in a future version. Please use `Model.evaluate`, which supports generators.\n",
            "  warnings.warn('`Model.evaluate_generator` is deprecated and '\n"
          ],
          "name": "stderr"
        },
        {
          "output_type": "execute_result",
          "data": {
            "text/plain": [
              "[0.015582487918436527, 0.09491660445928574]"
            ]
          },
          "metadata": {
            "tags": []
          },
          "execution_count": 312
        }
      ]
    },
    {
      "cell_type": "code",
      "metadata": {
        "colab": {
          "base_uri": "https://localhost:8080/"
        },
        "id": "gtr0N_Bxay1T",
        "outputId": "d00f4e99-84d4-4ddf-e5ba-10793d8e8477"
      },
      "source": [
        "predictions=model.predict_generator(test_generator)\r\n"
      ],
      "execution_count": 313,
      "outputs": [
        {
          "output_type": "stream",
          "text": [
            "/usr/local/lib/python3.6/dist-packages/tensorflow/python/keras/engine/training.py:1905: UserWarning: `Model.predict_generator` is deprecated and will be removed in a future version. Please use `Model.predict`, which supports generators.\n",
            "  warnings.warn('`Model.predict_generator` is deprecated and '\n"
          ],
          "name": "stderr"
        }
      ]
    },
    {
      "cell_type": "code",
      "metadata": {
        "colab": {
          "base_uri": "https://localhost:8080/"
        },
        "id": "Js7_lK_Fay4i",
        "outputId": "4b979ad3-2cce-4623-c829-f98a01e826a5"
      },
      "source": [
        "predictions.shape[0]"
      ],
      "execution_count": 314,
      "outputs": [
        {
          "output_type": "execute_result",
          "data": {
            "text/plain": [
              "143"
            ]
          },
          "metadata": {
            "tags": []
          },
          "execution_count": 314
        }
      ]
    },
    {
      "cell_type": "code",
      "metadata": {
        "colab": {
          "base_uri": "https://localhost:8080/"
        },
        "id": "lK63aErHay8L",
        "outputId": "d113ca53-4ee2-4658-d40f-8a711649c803"
      },
      "source": [
        "predictions"
      ],
      "execution_count": 315,
      "outputs": [
        {
          "output_type": "execute_result",
          "data": {
            "text/plain": [
              "array([[0.3879087 ],\n",
              "       [0.2324592 ],\n",
              "       [0.15337008],\n",
              "       [0.09601511],\n",
              "       [0.11114103],\n",
              "       [0.13232173],\n",
              "       [0.15988825],\n",
              "       [0.23442395],\n",
              "       [0.32107583],\n",
              "       [0.3843923 ],\n",
              "       [0.41546127],\n",
              "       [0.44450334],\n",
              "       [0.46512535],\n",
              "       [0.5029363 ],\n",
              "       [0.52718717],\n",
              "       [0.5326889 ],\n",
              "       [0.526185  ],\n",
              "       [0.536852  ],\n",
              "       [0.5463857 ],\n",
              "       [0.5746022 ],\n",
              "       [0.5897239 ],\n",
              "       [0.58889675],\n",
              "       [0.59469634],\n",
              "       [0.5883266 ],\n",
              "       [0.39564267],\n",
              "       [0.2442451 ],\n",
              "       [0.19148038],\n",
              "       [0.13814273],\n",
              "       [0.14969075],\n",
              "       [0.1655203 ],\n",
              "       [0.1856398 ],\n",
              "       [0.23345089],\n",
              "       [0.28256765],\n",
              "       [0.3142757 ],\n",
              "       [0.32862532],\n",
              "       [0.34536058],\n",
              "       [0.35939455],\n",
              "       [0.38725686],\n",
              "       [0.40858105],\n",
              "       [0.4156172 ],\n",
              "       [0.41211373],\n",
              "       [0.42182368],\n",
              "       [0.4315596 ],\n",
              "       [0.4536285 ],\n",
              "       [0.46867922],\n",
              "       [0.4707211 ],\n",
              "       [0.46387234],\n",
              "       [0.47004953],\n",
              "       [0.3486721 ],\n",
              "       [0.2312466 ],\n",
              "       [0.17112173],\n",
              "       [0.13956639],\n",
              "       [0.15067215],\n",
              "       [0.16655986],\n",
              "       [0.18757819],\n",
              "       [0.23599696],\n",
              "       [0.28692213],\n",
              "       [0.31982794],\n",
              "       [0.33464763],\n",
              "       [0.3515623 ],\n",
              "       [0.36538416],\n",
              "       [0.392024  ],\n",
              "       [0.41282657],\n",
              "       [0.42030853],\n",
              "       [0.41639167],\n",
              "       [0.42535922],\n",
              "       [0.43410572],\n",
              "       [0.45537007],\n",
              "       [0.47486487],\n",
              "       [0.48000914],\n",
              "       [0.47108063],\n",
              "       [0.46872035],\n",
              "       [0.36159343],\n",
              "       [0.2695414 ],\n",
              "       [0.22171785],\n",
              "       [0.18643448],\n",
              "       [0.19244297],\n",
              "       [0.19908504],\n",
              "       [0.20642062],\n",
              "       [0.22570057],\n",
              "       [0.24870643],\n",
              "       [0.26682118],\n",
              "       [0.27615103],\n",
              "       [0.2896643 ],\n",
              "       [0.30083278],\n",
              "       [0.31952742],\n",
              "       [0.33626133],\n",
              "       [0.3441234 ],\n",
              "       [0.3422505 ],\n",
              "       [0.35038474],\n",
              "       [0.35837892],\n",
              "       [0.3751663 ],\n",
              "       [0.3886731 ],\n",
              "       [0.39331326],\n",
              "       [0.38734552],\n",
              "       [0.39141235],\n",
              "       [0.32121587],\n",
              "       [0.24696207],\n",
              "       [0.20297243],\n",
              "       [0.18462072],\n",
              "       [0.19058706],\n",
              "       [0.19906668],\n",
              "       [0.2096782 ],\n",
              "       [0.23203523],\n",
              "       [0.25717056],\n",
              "       [0.2755423 ],\n",
              "       [0.28335258],\n",
              "       [0.29535466],\n",
              "       [0.30618924],\n",
              "       [0.3254202 ],\n",
              "       [0.342189  ],\n",
              "       [0.3492106 ],\n",
              "       [0.34669477],\n",
              "       [0.355005  ],\n",
              "       [0.3629848 ],\n",
              "       [0.38008016],\n",
              "       [0.3957506 ],\n",
              "       [0.40012568],\n",
              "       [0.40133938],\n",
              "       [0.40164825],\n",
              "       [0.32288715],\n",
              "       [0.24028543],\n",
              "       [0.20725845],\n",
              "       [0.18742616],\n",
              "       [0.19349049],\n",
              "       [0.20237269],\n",
              "       [0.21350141],\n",
              "       [0.23677097],\n",
              "       [0.2622525 ],\n",
              "       [0.2808691 ],\n",
              "       [0.2885732 ],\n",
              "       [0.30022213],\n",
              "       [0.31059548],\n",
              "       [0.32973355],\n",
              "       [0.34672305],\n",
              "       [0.35438338],\n",
              "       [0.3523278 ],\n",
              "       [0.36061016],\n",
              "       [0.36847678],\n",
              "       [0.38540506],\n",
              "       [0.39971137],\n",
              "       [0.4037663 ],\n",
              "       [0.3984088 ]], dtype=float32)"
            ]
          },
          "metadata": {
            "tags": []
          },
          "execution_count": 315
        }
      ]
    },
    {
      "cell_type": "code",
      "metadata": {
        "colab": {
          "base_uri": "https://localhost:8080/"
        },
        "id": "gqFsxyXmbD5o",
        "outputId": "05d9bd32-346b-412d-9569-47d7949e56a1"
      },
      "source": [
        "y_test"
      ],
      "execution_count": 316,
      "outputs": [
        {
          "output_type": "execute_result",
          "data": {
            "text/plain": [
              "array([0.57667474, 0.56981437, 0.55246166, 0.50121065, 0.39911219,\n",
              "       0.2905569 , 0.19895077, 0.13438257, 0.09200969, 0.07909605,\n",
              "       0.09644875, 0.1598063 , 0.27683616, 0.3700565 , 0.42453592,\n",
              "       0.46489104, 0.49273608, 0.51049233, 0.52138822, 0.53753027,\n",
              "       0.55851493, 0.56053269, 0.55326877, 0.56981437, 0.58797417,\n",
              "       0.99677159, 0.56900726, 0.50443906, 0.39346247, 0.27764326,\n",
              "       0.18886199, 0.12631154, 0.08837772, 0.08757062, 0.12792575,\n",
              "       0.19935432, 0.29782082, 0.3708636 , 0.41525424, 0.44753834,\n",
              "       0.47215496, 0.47659403, 0.48385795, 0.49959645, 0.51291364,\n",
              "       0.53874092, 0.53874092, 0.55528652, 0.57304278, 0.58999193,\n",
              "       0.56497175, 0.51008878, 0.39467312, 0.27885391, 0.18038741,\n",
              "       0.12066182, 0.08474576, 0.08676352, 0.12308313, 0.19774011,\n",
              "       0.29620662, 0.36682809, 0.41525424, 0.44108152, 0.45762712,\n",
              "       0.47659403, 0.48385795, 0.48950767, 0.49757869, 0.49394673,\n",
              "       0.48466505, 0.64608555, 0.65294592, 0.64891041, 0.47457627,\n",
              "       0.46125908, 0.41364003, 0.32728006, 0.24011299, 0.16626312,\n",
              "       0.10855529, 0.08434221, 0.08837772, 0.14003228, 0.23809524,\n",
              "       0.34382567, 0.40718321, 0.44188862, 0.4693301 , 0.47820823,\n",
              "       0.49677159, 0.50968523, 0.53188055, 0.55286521, 0.56255044,\n",
              "       0.60048426, 0.65133172, 0.59200969, 0.56779661, 0.48910412,\n",
              "       0.37853107, 0.26795803, 0.17271994, 0.114205  , 0.08555287,\n",
              "       0.09443099, 0.15173527, 0.21549637, 0.28288943, 0.36198547,\n",
              "       0.40799031, 0.44713479, 0.48305085, 0.47497982, 0.48062954,\n",
              "       0.49152542, 0.51049233, 0.52179177, 0.54519774, 0.66666667,\n",
              "       0.64527845, 1.        , 0.57707829, 0.50605327, 0.39790153,\n",
              "       0.28006457, 0.17958031, 0.11702986, 0.08635997, 0.0968523 ,\n",
              "       0.15052462, 0.21953188, 0.28732849, 0.35552865, 0.39144471,\n",
              "       0.41727199, 0.45359161, 0.45318805, 0.46610169, 0.48587571,\n",
              "       0.49959645, 0.51412429, 0.52865214, 0.59160613, 0.61138015,\n",
              "       0.62510089, 0.56335755])"
            ]
          },
          "metadata": {
            "tags": []
          },
          "execution_count": 316
        }
      ]
    },
    {
      "cell_type": "code",
      "metadata": {
        "colab": {
          "base_uri": "https://localhost:8080/"
        },
        "id": "y4WwgSmXbD8U",
        "outputId": "d8787fa7-284f-4668-8257-1d076d4deec0"
      },
      "source": [
        "x_test[:,:7][win_length:]\r\n"
      ],
      "execution_count": 317,
      "outputs": [
        {
          "output_type": "execute_result",
          "data": {
            "text/plain": [
              "array([[0.04347826, 1.        , 0.99450549, ..., 1.        , 1.        ,\n",
              "        0.        ],\n",
              "       [0.08695652, 1.        , 0.99450549, ..., 1.        , 1.        ,\n",
              "        0.        ],\n",
              "       [0.13043478, 1.        , 0.99450549, ..., 1.        , 1.        ,\n",
              "        0.        ],\n",
              "       ...,\n",
              "       [0.91304348, 0.66666667, 0.00549451, ..., 0.        , 0.        ,\n",
              "        1.        ],\n",
              "       [0.95652174, 0.66666667, 0.00549451, ..., 0.        , 0.        ,\n",
              "        1.        ],\n",
              "       [1.        , 0.66666667, 0.00549451, ..., 0.        , 0.        ,\n",
              "        1.        ]])"
            ]
          },
          "metadata": {
            "tags": []
          },
          "execution_count": 317
        }
      ]
    },
    {
      "cell_type": "code",
      "metadata": {
        "colab": {
          "base_uri": "https://localhost:8080/",
          "height": 419
        },
        "id": "fe7Be59ibD_V",
        "outputId": "3f11c316-fb98-473a-cca4-8d81f0c8a53d"
      },
      "source": [
        "df_pred=pd.concat([ pd.DataFrame(x_test[:,:7][win_length:]),pd.DataFrame(predictions)],axis=1)\r\n",
        "df_pred"
      ],
      "execution_count": 318,
      "outputs": [
        {
          "output_type": "execute_result",
          "data": {
            "text/html": [
              "<div>\n",
              "<style scoped>\n",
              "    .dataframe tbody tr th:only-of-type {\n",
              "        vertical-align: middle;\n",
              "    }\n",
              "\n",
              "    .dataframe tbody tr th {\n",
              "        vertical-align: top;\n",
              "    }\n",
              "\n",
              "    .dataframe thead th {\n",
              "        text-align: right;\n",
              "    }\n",
              "</style>\n",
              "<table border=\"1\" class=\"dataframe\">\n",
              "  <thead>\n",
              "    <tr style=\"text-align: right;\">\n",
              "      <th></th>\n",
              "      <th>0</th>\n",
              "      <th>1</th>\n",
              "      <th>2</th>\n",
              "      <th>3</th>\n",
              "      <th>4</th>\n",
              "      <th>5</th>\n",
              "      <th>6</th>\n",
              "      <th>0</th>\n",
              "    </tr>\n",
              "  </thead>\n",
              "  <tbody>\n",
              "    <tr>\n",
              "      <th>0</th>\n",
              "      <td>0.043478</td>\n",
              "      <td>1.000000</td>\n",
              "      <td>0.994505</td>\n",
              "      <td>1.0</td>\n",
              "      <td>1.0</td>\n",
              "      <td>1.0</td>\n",
              "      <td>0.0</td>\n",
              "      <td>0.387909</td>\n",
              "    </tr>\n",
              "    <tr>\n",
              "      <th>1</th>\n",
              "      <td>0.086957</td>\n",
              "      <td>1.000000</td>\n",
              "      <td>0.994505</td>\n",
              "      <td>1.0</td>\n",
              "      <td>1.0</td>\n",
              "      <td>1.0</td>\n",
              "      <td>0.0</td>\n",
              "      <td>0.232459</td>\n",
              "    </tr>\n",
              "    <tr>\n",
              "      <th>2</th>\n",
              "      <td>0.130435</td>\n",
              "      <td>1.000000</td>\n",
              "      <td>0.994505</td>\n",
              "      <td>1.0</td>\n",
              "      <td>1.0</td>\n",
              "      <td>1.0</td>\n",
              "      <td>0.0</td>\n",
              "      <td>0.153370</td>\n",
              "    </tr>\n",
              "    <tr>\n",
              "      <th>3</th>\n",
              "      <td>0.173913</td>\n",
              "      <td>1.000000</td>\n",
              "      <td>0.994505</td>\n",
              "      <td>1.0</td>\n",
              "      <td>1.0</td>\n",
              "      <td>1.0</td>\n",
              "      <td>0.0</td>\n",
              "      <td>0.096015</td>\n",
              "    </tr>\n",
              "    <tr>\n",
              "      <th>4</th>\n",
              "      <td>0.217391</td>\n",
              "      <td>1.000000</td>\n",
              "      <td>0.994505</td>\n",
              "      <td>1.0</td>\n",
              "      <td>1.0</td>\n",
              "      <td>1.0</td>\n",
              "      <td>0.0</td>\n",
              "      <td>0.111141</td>\n",
              "    </tr>\n",
              "    <tr>\n",
              "      <th>...</th>\n",
              "      <td>...</td>\n",
              "      <td>...</td>\n",
              "      <td>...</td>\n",
              "      <td>...</td>\n",
              "      <td>...</td>\n",
              "      <td>...</td>\n",
              "      <td>...</td>\n",
              "      <td>...</td>\n",
              "    </tr>\n",
              "    <tr>\n",
              "      <th>138</th>\n",
              "      <td>0.826087</td>\n",
              "      <td>0.666667</td>\n",
              "      <td>0.005495</td>\n",
              "      <td>0.0</td>\n",
              "      <td>0.0</td>\n",
              "      <td>0.0</td>\n",
              "      <td>1.0</td>\n",
              "      <td>0.368477</td>\n",
              "    </tr>\n",
              "    <tr>\n",
              "      <th>139</th>\n",
              "      <td>0.869565</td>\n",
              "      <td>0.666667</td>\n",
              "      <td>0.005495</td>\n",
              "      <td>0.0</td>\n",
              "      <td>0.0</td>\n",
              "      <td>0.0</td>\n",
              "      <td>1.0</td>\n",
              "      <td>0.385405</td>\n",
              "    </tr>\n",
              "    <tr>\n",
              "      <th>140</th>\n",
              "      <td>0.913043</td>\n",
              "      <td>0.666667</td>\n",
              "      <td>0.005495</td>\n",
              "      <td>0.0</td>\n",
              "      <td>0.0</td>\n",
              "      <td>0.0</td>\n",
              "      <td>1.0</td>\n",
              "      <td>0.399711</td>\n",
              "    </tr>\n",
              "    <tr>\n",
              "      <th>141</th>\n",
              "      <td>0.956522</td>\n",
              "      <td>0.666667</td>\n",
              "      <td>0.005495</td>\n",
              "      <td>0.0</td>\n",
              "      <td>0.0</td>\n",
              "      <td>0.0</td>\n",
              "      <td>1.0</td>\n",
              "      <td>0.403766</td>\n",
              "    </tr>\n",
              "    <tr>\n",
              "      <th>142</th>\n",
              "      <td>1.000000</td>\n",
              "      <td>0.666667</td>\n",
              "      <td>0.005495</td>\n",
              "      <td>0.0</td>\n",
              "      <td>0.0</td>\n",
              "      <td>0.0</td>\n",
              "      <td>1.0</td>\n",
              "      <td>0.398409</td>\n",
              "    </tr>\n",
              "  </tbody>\n",
              "</table>\n",
              "<p>143 rows × 8 columns</p>\n",
              "</div>"
            ],
            "text/plain": [
              "            0         1         2    3    4    5    6         0\n",
              "0    0.043478  1.000000  0.994505  1.0  1.0  1.0  0.0  0.387909\n",
              "1    0.086957  1.000000  0.994505  1.0  1.0  1.0  0.0  0.232459\n",
              "2    0.130435  1.000000  0.994505  1.0  1.0  1.0  0.0  0.153370\n",
              "3    0.173913  1.000000  0.994505  1.0  1.0  1.0  0.0  0.096015\n",
              "4    0.217391  1.000000  0.994505  1.0  1.0  1.0  0.0  0.111141\n",
              "..        ...       ...       ...  ...  ...  ...  ...       ...\n",
              "138  0.826087  0.666667  0.005495  0.0  0.0  0.0  1.0  0.368477\n",
              "139  0.869565  0.666667  0.005495  0.0  0.0  0.0  1.0  0.385405\n",
              "140  0.913043  0.666667  0.005495  0.0  0.0  0.0  1.0  0.399711\n",
              "141  0.956522  0.666667  0.005495  0.0  0.0  0.0  1.0  0.403766\n",
              "142  1.000000  0.666667  0.005495  0.0  0.0  0.0  1.0  0.398409\n",
              "\n",
              "[143 rows x 8 columns]"
            ]
          },
          "metadata": {
            "tags": []
          },
          "execution_count": 318
        }
      ]
    },
    {
      "cell_type": "code",
      "metadata": {
        "id": "7afIqyGabEEP"
      },
      "source": [
        "rev_trans=scaler.inverse_transform(df_pred)\r\n"
      ],
      "execution_count": 319,
      "outputs": []
    },
    {
      "cell_type": "code",
      "metadata": {
        "colab": {
          "base_uri": "https://localhost:8080/"
        },
        "id": "4bwsRmLabEGd",
        "outputId": "9e2b3b1c-4d55-44fb-d7a3-34a05398a894"
      },
      "source": [
        "rev_trans"
      ],
      "execution_count": 320,
      "outputs": [
        {
          "output_type": "execute_result",
          "data": {
            "text/plain": [
              "array([[  1.        ,   6.        , 363.        , ...,  12.        ,\n",
              "          1.        ,  10.02237751],\n",
              "       [  2.        ,   6.        , 363.        , ...,  12.        ,\n",
              "          1.        ,   6.17033904],\n",
              "       [  3.        ,   6.        , 363.        , ...,  12.        ,\n",
              "          1.        ,   4.21051064],\n",
              "       ...,\n",
              "       [ 21.        ,   4.        ,   3.        , ...,   1.        ,\n",
              "          4.        ,  10.31484776],\n",
              "       [ 22.        ,   4.        ,   3.        , ...,   1.        ,\n",
              "          4.        ,  10.41532902],\n",
              "       [ 23.        ,   4.        ,   3.        , ...,   1.        ,\n",
              "          4.        ,  10.28257007]])"
            ]
          },
          "metadata": {
            "tags": []
          },
          "execution_count": 320
        }
      ]
    },
    {
      "cell_type": "code",
      "metadata": {
        "colab": {
          "base_uri": "https://localhost:8080/",
          "height": 450
        },
        "id": "LrKsHna6ay_V",
        "outputId": "8518938b-35f1-489d-9bb7-fd41d61c0aed"
      },
      "source": [
        "df_final=features[predictions.shape[0]*-1:]\r\n",
        "df_final"
      ],
      "execution_count": 321,
      "outputs": [
        {
          "output_type": "execute_result",
          "data": {
            "text/html": [
              "<div>\n",
              "<style scoped>\n",
              "    .dataframe tbody tr th:only-of-type {\n",
              "        vertical-align: middle;\n",
              "    }\n",
              "\n",
              "    .dataframe tbody tr th {\n",
              "        vertical-align: top;\n",
              "    }\n",
              "\n",
              "    .dataframe thead th {\n",
              "        text-align: right;\n",
              "    }\n",
              "</style>\n",
              "<table border=\"1\" class=\"dataframe\">\n",
              "  <thead>\n",
              "    <tr style=\"text-align: right;\">\n",
              "      <th></th>\n",
              "      <th>hour</th>\n",
              "      <th>weekday</th>\n",
              "      <th>dayofyear</th>\n",
              "      <th>is_weekend</th>\n",
              "      <th>weekofyear</th>\n",
              "      <th>month</th>\n",
              "      <th>usage</th>\n",
              "      <th>Values (Gbps)</th>\n",
              "    </tr>\n",
              "    <tr>\n",
              "      <th>Timestamp</th>\n",
              "      <th></th>\n",
              "      <th></th>\n",
              "      <th></th>\n",
              "      <th></th>\n",
              "      <th></th>\n",
              "      <th></th>\n",
              "      <th></th>\n",
              "      <th></th>\n",
              "    </tr>\n",
              "  </thead>\n",
              "  <tbody>\n",
              "    <tr>\n",
              "      <th>2019-12-29 01:00:00</th>\n",
              "      <td>1</td>\n",
              "      <td>6</td>\n",
              "      <td>363</td>\n",
              "      <td>1</td>\n",
              "      <td>52</td>\n",
              "      <td>12</td>\n",
              "      <td>1</td>\n",
              "      <td>10.30</td>\n",
              "    </tr>\n",
              "    <tr>\n",
              "      <th>2019-12-29 02:00:00</th>\n",
              "      <td>2</td>\n",
              "      <td>6</td>\n",
              "      <td>363</td>\n",
              "      <td>1</td>\n",
              "      <td>52</td>\n",
              "      <td>12</td>\n",
              "      <td>1</td>\n",
              "      <td>7.61</td>\n",
              "    </tr>\n",
              "    <tr>\n",
              "      <th>2019-12-29 03:00:00</th>\n",
              "      <td>3</td>\n",
              "      <td>6</td>\n",
              "      <td>363</td>\n",
              "      <td>1</td>\n",
              "      <td>52</td>\n",
              "      <td>12</td>\n",
              "      <td>1</td>\n",
              "      <td>5.34</td>\n",
              "    </tr>\n",
              "    <tr>\n",
              "      <th>2019-12-29 04:00:00</th>\n",
              "      <td>4</td>\n",
              "      <td>6</td>\n",
              "      <td>363</td>\n",
              "      <td>1</td>\n",
              "      <td>52</td>\n",
              "      <td>12</td>\n",
              "      <td>1</td>\n",
              "      <td>3.74</td>\n",
              "    </tr>\n",
              "    <tr>\n",
              "      <th>2019-12-29 05:00:00</th>\n",
              "      <td>5</td>\n",
              "      <td>6</td>\n",
              "      <td>363</td>\n",
              "      <td>1</td>\n",
              "      <td>52</td>\n",
              "      <td>12</td>\n",
              "      <td>1</td>\n",
              "      <td>2.69</td>\n",
              "    </tr>\n",
              "    <tr>\n",
              "      <th>...</th>\n",
              "      <td>...</td>\n",
              "      <td>...</td>\n",
              "      <td>...</td>\n",
              "      <td>...</td>\n",
              "      <td>...</td>\n",
              "      <td>...</td>\n",
              "      <td>...</td>\n",
              "      <td>...</td>\n",
              "    </tr>\n",
              "    <tr>\n",
              "      <th>2020-01-03 19:00:00</th>\n",
              "      <td>19</td>\n",
              "      <td>4</td>\n",
              "      <td>3</td>\n",
              "      <td>0</td>\n",
              "      <td>1</td>\n",
              "      <td>1</td>\n",
              "      <td>4</td>\n",
              "      <td>13.51</td>\n",
              "    </tr>\n",
              "    <tr>\n",
              "      <th>2020-01-03 20:00:00</th>\n",
              "      <td>20</td>\n",
              "      <td>4</td>\n",
              "      <td>3</td>\n",
              "      <td>0</td>\n",
              "      <td>1</td>\n",
              "      <td>1</td>\n",
              "      <td>4</td>\n",
              "      <td>15.07</td>\n",
              "    </tr>\n",
              "    <tr>\n",
              "      <th>2020-01-03 21:00:00</th>\n",
              "      <td>21</td>\n",
              "      <td>4</td>\n",
              "      <td>3</td>\n",
              "      <td>0</td>\n",
              "      <td>1</td>\n",
              "      <td>1</td>\n",
              "      <td>4</td>\n",
              "      <td>15.56</td>\n",
              "    </tr>\n",
              "    <tr>\n",
              "      <th>2020-01-03 22:00:00</th>\n",
              "      <td>22</td>\n",
              "      <td>4</td>\n",
              "      <td>3</td>\n",
              "      <td>0</td>\n",
              "      <td>1</td>\n",
              "      <td>1</td>\n",
              "      <td>4</td>\n",
              "      <td>15.90</td>\n",
              "    </tr>\n",
              "    <tr>\n",
              "      <th>2020-01-03 23:00:00</th>\n",
              "      <td>23</td>\n",
              "      <td>4</td>\n",
              "      <td>3</td>\n",
              "      <td>0</td>\n",
              "      <td>1</td>\n",
              "      <td>1</td>\n",
              "      <td>4</td>\n",
              "      <td>14.37</td>\n",
              "    </tr>\n",
              "  </tbody>\n",
              "</table>\n",
              "<p>143 rows × 8 columns</p>\n",
              "</div>"
            ],
            "text/plain": [
              "                     hour  weekday  dayofyear  ...  month  usage  Values (Gbps)\n",
              "Timestamp                                      ...                             \n",
              "2019-12-29 01:00:00     1        6        363  ...     12      1          10.30\n",
              "2019-12-29 02:00:00     2        6        363  ...     12      1           7.61\n",
              "2019-12-29 03:00:00     3        6        363  ...     12      1           5.34\n",
              "2019-12-29 04:00:00     4        6        363  ...     12      1           3.74\n",
              "2019-12-29 05:00:00     5        6        363  ...     12      1           2.69\n",
              "...                   ...      ...        ...  ...    ...    ...            ...\n",
              "2020-01-03 19:00:00    19        4          3  ...      1      4          13.51\n",
              "2020-01-03 20:00:00    20        4          3  ...      1      4          15.07\n",
              "2020-01-03 21:00:00    21        4          3  ...      1      4          15.56\n",
              "2020-01-03 22:00:00    22        4          3  ...      1      4          15.90\n",
              "2020-01-03 23:00:00    23        4          3  ...      1      4          14.37\n",
              "\n",
              "[143 rows x 8 columns]"
            ]
          },
          "metadata": {
            "tags": []
          },
          "execution_count": 321
        }
      ]
    },
    {
      "cell_type": "code",
      "metadata": {
        "colab": {
          "base_uri": "https://localhost:8080/",
          "height": 552
        },
        "id": "X0P-TpxXbuqV",
        "outputId": "07bf36c8-d322-43c5-9df6-01ace5440ac3"
      },
      "source": [
        "df_final['App_Pred'] = rev_trans[:,7]\r\n",
        "\r\n",
        "df_final"
      ],
      "execution_count": 322,
      "outputs": [
        {
          "output_type": "stream",
          "text": [
            "/usr/local/lib/python3.6/dist-packages/ipykernel_launcher.py:1: SettingWithCopyWarning: \n",
            "A value is trying to be set on a copy of a slice from a DataFrame.\n",
            "Try using .loc[row_indexer,col_indexer] = value instead\n",
            "\n",
            "See the caveats in the documentation: https://pandas.pydata.org/pandas-docs/stable/user_guide/indexing.html#returning-a-view-versus-a-copy\n",
            "  \"\"\"Entry point for launching an IPython kernel.\n"
          ],
          "name": "stderr"
        },
        {
          "output_type": "execute_result",
          "data": {
            "text/html": [
              "<div>\n",
              "<style scoped>\n",
              "    .dataframe tbody tr th:only-of-type {\n",
              "        vertical-align: middle;\n",
              "    }\n",
              "\n",
              "    .dataframe tbody tr th {\n",
              "        vertical-align: top;\n",
              "    }\n",
              "\n",
              "    .dataframe thead th {\n",
              "        text-align: right;\n",
              "    }\n",
              "</style>\n",
              "<table border=\"1\" class=\"dataframe\">\n",
              "  <thead>\n",
              "    <tr style=\"text-align: right;\">\n",
              "      <th></th>\n",
              "      <th>hour</th>\n",
              "      <th>weekday</th>\n",
              "      <th>dayofyear</th>\n",
              "      <th>is_weekend</th>\n",
              "      <th>weekofyear</th>\n",
              "      <th>month</th>\n",
              "      <th>usage</th>\n",
              "      <th>Values (Gbps)</th>\n",
              "      <th>App_Pred</th>\n",
              "    </tr>\n",
              "    <tr>\n",
              "      <th>Timestamp</th>\n",
              "      <th></th>\n",
              "      <th></th>\n",
              "      <th></th>\n",
              "      <th></th>\n",
              "      <th></th>\n",
              "      <th></th>\n",
              "      <th></th>\n",
              "      <th></th>\n",
              "      <th></th>\n",
              "    </tr>\n",
              "  </thead>\n",
              "  <tbody>\n",
              "    <tr>\n",
              "      <th>2019-12-29 01:00:00</th>\n",
              "      <td>1</td>\n",
              "      <td>6</td>\n",
              "      <td>363</td>\n",
              "      <td>1</td>\n",
              "      <td>52</td>\n",
              "      <td>12</td>\n",
              "      <td>1</td>\n",
              "      <td>10.30</td>\n",
              "      <td>10.022378</td>\n",
              "    </tr>\n",
              "    <tr>\n",
              "      <th>2019-12-29 02:00:00</th>\n",
              "      <td>2</td>\n",
              "      <td>6</td>\n",
              "      <td>363</td>\n",
              "      <td>1</td>\n",
              "      <td>52</td>\n",
              "      <td>12</td>\n",
              "      <td>1</td>\n",
              "      <td>7.61</td>\n",
              "      <td>6.170339</td>\n",
              "    </tr>\n",
              "    <tr>\n",
              "      <th>2019-12-29 03:00:00</th>\n",
              "      <td>3</td>\n",
              "      <td>6</td>\n",
              "      <td>363</td>\n",
              "      <td>1</td>\n",
              "      <td>52</td>\n",
              "      <td>12</td>\n",
              "      <td>1</td>\n",
              "      <td>5.34</td>\n",
              "      <td>4.210511</td>\n",
              "    </tr>\n",
              "    <tr>\n",
              "      <th>2019-12-29 04:00:00</th>\n",
              "      <td>4</td>\n",
              "      <td>6</td>\n",
              "      <td>363</td>\n",
              "      <td>1</td>\n",
              "      <td>52</td>\n",
              "      <td>12</td>\n",
              "      <td>1</td>\n",
              "      <td>3.74</td>\n",
              "      <td>2.789254</td>\n",
              "    </tr>\n",
              "    <tr>\n",
              "      <th>2019-12-29 05:00:00</th>\n",
              "      <td>5</td>\n",
              "      <td>6</td>\n",
              "      <td>363</td>\n",
              "      <td>1</td>\n",
              "      <td>52</td>\n",
              "      <td>12</td>\n",
              "      <td>1</td>\n",
              "      <td>2.69</td>\n",
              "      <td>3.164075</td>\n",
              "    </tr>\n",
              "    <tr>\n",
              "      <th>...</th>\n",
              "      <td>...</td>\n",
              "      <td>...</td>\n",
              "      <td>...</td>\n",
              "      <td>...</td>\n",
              "      <td>...</td>\n",
              "      <td>...</td>\n",
              "      <td>...</td>\n",
              "      <td>...</td>\n",
              "      <td>...</td>\n",
              "    </tr>\n",
              "    <tr>\n",
              "      <th>2020-01-03 19:00:00</th>\n",
              "      <td>19</td>\n",
              "      <td>4</td>\n",
              "      <td>3</td>\n",
              "      <td>0</td>\n",
              "      <td>1</td>\n",
              "      <td>1</td>\n",
              "      <td>4</td>\n",
              "      <td>13.51</td>\n",
              "      <td>9.540855</td>\n",
              "    </tr>\n",
              "    <tr>\n",
              "      <th>2020-01-03 20:00:00</th>\n",
              "      <td>20</td>\n",
              "      <td>4</td>\n",
              "      <td>3</td>\n",
              "      <td>0</td>\n",
              "      <td>1</td>\n",
              "      <td>1</td>\n",
              "      <td>4</td>\n",
              "      <td>15.07</td>\n",
              "      <td>9.960337</td>\n",
              "    </tr>\n",
              "    <tr>\n",
              "      <th>2020-01-03 21:00:00</th>\n",
              "      <td>21</td>\n",
              "      <td>4</td>\n",
              "      <td>3</td>\n",
              "      <td>0</td>\n",
              "      <td>1</td>\n",
              "      <td>1</td>\n",
              "      <td>4</td>\n",
              "      <td>15.56</td>\n",
              "      <td>10.314848</td>\n",
              "    </tr>\n",
              "    <tr>\n",
              "      <th>2020-01-03 22:00:00</th>\n",
              "      <td>22</td>\n",
              "      <td>4</td>\n",
              "      <td>3</td>\n",
              "      <td>0</td>\n",
              "      <td>1</td>\n",
              "      <td>1</td>\n",
              "      <td>4</td>\n",
              "      <td>15.90</td>\n",
              "      <td>10.415329</td>\n",
              "    </tr>\n",
              "    <tr>\n",
              "      <th>2020-01-03 23:00:00</th>\n",
              "      <td>23</td>\n",
              "      <td>4</td>\n",
              "      <td>3</td>\n",
              "      <td>0</td>\n",
              "      <td>1</td>\n",
              "      <td>1</td>\n",
              "      <td>4</td>\n",
              "      <td>14.37</td>\n",
              "      <td>10.282570</td>\n",
              "    </tr>\n",
              "  </tbody>\n",
              "</table>\n",
              "<p>143 rows × 9 columns</p>\n",
              "</div>"
            ],
            "text/plain": [
              "                     hour  weekday  dayofyear  ...  usage  Values (Gbps)   App_Pred\n",
              "Timestamp                                      ...                                 \n",
              "2019-12-29 01:00:00     1        6        363  ...      1          10.30  10.022378\n",
              "2019-12-29 02:00:00     2        6        363  ...      1           7.61   6.170339\n",
              "2019-12-29 03:00:00     3        6        363  ...      1           5.34   4.210511\n",
              "2019-12-29 04:00:00     4        6        363  ...      1           3.74   2.789254\n",
              "2019-12-29 05:00:00     5        6        363  ...      1           2.69   3.164075\n",
              "...                   ...      ...        ...  ...    ...            ...        ...\n",
              "2020-01-03 19:00:00    19        4          3  ...      4          13.51   9.540855\n",
              "2020-01-03 20:00:00    20        4          3  ...      4          15.07   9.960337\n",
              "2020-01-03 21:00:00    21        4          3  ...      4          15.56  10.314848\n",
              "2020-01-03 22:00:00    22        4          3  ...      4          15.90  10.415329\n",
              "2020-01-03 23:00:00    23        4          3  ...      4          14.37  10.282570\n",
              "\n",
              "[143 rows x 9 columns]"
            ]
          },
          "metadata": {
            "tags": []
          },
          "execution_count": 322
        }
      ]
    },
    {
      "cell_type": "code",
      "metadata": {
        "colab": {
          "base_uri": "https://localhost:8080/",
          "height": 537
        },
        "id": "mZ323svag1Jz",
        "outputId": "b216fa2b-4afc-4d4b-ad8c-8653048cfbbb"
      },
      "source": [
        "df_final[['Values (Gbps)','App_Pred']].plot()\r\n"
      ],
      "execution_count": 323,
      "outputs": [
        {
          "output_type": "execute_result",
          "data": {
            "text/plain": [
              "<matplotlib.axes._subplots.AxesSubplot at 0x7fe9b6ad3f98>"
            ]
          },
          "metadata": {
            "tags": []
          },
          "execution_count": 323
        },
        {
          "output_type": "display_data",
          "data": {
            "image/png": "[encoded data removed]",
            "text/plain": [
              "<Figure size 720x576 with 1 Axes>"
            ]
          },
          "metadata": {
            "tags": [],
            "needs_background": "light"
          }
        }
      ]
    },
    {
      "cell_type": "code",
      "metadata": {
        "id": "wg7YQHBqg1MZ"
      },
      "source": [
        ""
      ],
      "execution_count": 306,
      "outputs": []
    },
    {
      "cell_type": "code",
      "metadata": {
        "id": "zHfuX94mg1Os"
      },
      "source": [
        ""
      ],
      "execution_count": 289,
      "outputs": []
    }
  ]
}